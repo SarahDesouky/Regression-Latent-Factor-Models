{
 "cells": [
  {
   "cell_type": "code",
   "execution_count": 1,
   "metadata": {
    "collapsed": false
   },
   "outputs": [],
   "source": [
    "from scipy.optimize import fmin_bfgs, fmin_l_bfgs_b\n",
    "import csv\n",
    "import numpy as np\n",
    "import math\n",
    "from collections import defaultdict\n",
    "import operator\n",
    "import hashlib\n",
    "from datetime import datetime\n",
    "import functools"
   ]
  },
  {
   "cell_type": "code",
   "execution_count": 2,
   "metadata": {
    "collapsed": true
   },
   "outputs": [],
   "source": [
    "with open('categories.txt', 'rb') as content_file:\n",
    "    categories = content_file.read().split('\\n')\n",
    "#to make things faster i put the index where every category starts in a dictionary where the key are the product ids and \n",
    "#the values are the starting index of the category\n",
    "catindex = defaultdict(int)\n",
    "f = open('categories.txt','rb')\n",
    "for i,l in enumerate(f):\n",
    "    if len(l)-len(l.strip()) <=1:\n",
    "        catindex[l.strip()]=i\n",
    "\n",
    "#takes product id and returns category\n",
    "def getCategory(pid, categories, catdict, depth):\n",
    "    index = catdict[pid]\n",
    "    value = set()\n",
    "    j = index + 1\n",
    "    while len(categories[j])-len(categories[j].strip())>1:\n",
    "                ws = (categories[j].strip()).split(',')\n",
    "                break\n",
    "    return str((ws[:depth])[-1].strip())"
   ]
  },
  {
   "cell_type": "code",
   "execution_count": 3,
   "metadata": {
    "collapsed": true
   },
   "outputs": [],
   "source": [
    "def getYear(unix):\n",
    "    time = datetime.utcfromtimestamp(float(unix))\n",
    "    return time.strftime(\"%Y\")"
   ]
  },
  {
   "cell_type": "code",
   "execution_count": 5,
   "metadata": {
    "collapsed": false
   },
   "outputs": [],
   "source": [
    "data = []\n",
    "with open('100 core subset filtered.csv', 'rb') as csvfile:\n",
    "    reader = csv.DictReader(csvfile)\n",
    "    for row in reader:\n",
    "        data.append((row['uid'], row['pid'], float(row['rating']), row['time']))"
   ]
  },
  {
   "cell_type": "code",
   "execution_count": 6,
   "metadata": {
    "collapsed": false
   },
   "outputs": [
    {
     "data": {
      "text/plain": [
       "('A1YXHALQFWN45C', '0783885008', 4.0, '1288310400')"
      ]
     },
     "execution_count": 6,
     "metadata": {},
     "output_type": "execute_result"
    }
   ],
   "source": [
    "data[0]"
   ]
  },
  {
   "cell_type": "code",
   "execution_count": 7,
   "metadata": {
    "collapsed": true
   },
   "outputs": [],
   "source": [
    "def gethexdig(txt):\n",
    "    c = hashlib.md5(txt.encode())\n",
    "    return c.hexdigest()\n",
    "\n",
    "gs= defaultdict(int)\n",
    "for d in data:\n",
    "    cat = getCategory(d[1], categories, catindex, 3)\n",
    "    gs[cat]+=1\n",
    "gs = set(sorted(gs.iteritems(), key= operator.itemgetter(1), reverse=True)[:50])\n",
    "ghashed = set()\n",
    "for g in gs:\n",
    "    ghashed.add(gethexdig(g[0])) \n",
    "\n",
    "itemsuserrated = defaultdict(lambda: list())\n",
    "useritems = defaultdict(lambda: list())\n",
    "itemsuserratedwithtime = defaultdict(lambda: list())\n",
    "for d in data:\n",
    "    itemsuserrated[d[0]].append((d[1], d[3]))\n",
    "\n",
    "for u in itemsuserrated:\n",
    "    items = itemsuserrated[u]\n",
    "    isorted = sorted(items, key = lambda tup: tup[1])\n",
    "    itemsuserrated[u] = isorted\n",
    "    useritems[u] = [i[0] for i in isorted]\n",
    "    itemsuserratedwithtime[u] = [(i[0], i[1]) for i in isorted]"
   ]
  },
  {
   "cell_type": "code",
   "execution_count": 8,
   "metadata": {
    "collapsed": true
   },
   "outputs": [],
   "source": [
    "def same_year(u1,u2):\n",
    "    d1= datetime.fromtimestamp(float(u1))\n",
    "    d2= datetime.fromtimestamp(float(u2))\n",
    "    delta = d1 - d2\n",
    "    return delta.days <=365 and delta.days >= 0\n",
    "\n",
    "def reviews_before_in_same_year(uid, pid):\n",
    "    pids = []\n",
    "    reviews = useritems[uid]\n",
    "    reviewswithtime = itemsuserratedwithtime[uid]\n",
    "    index = list(reviews).index(pid)\n",
    "    year = reviewswithtime[index][1]\n",
    "    for i in range(index):\n",
    "        if same_year(year, reviewswithtime[i][1]):\n",
    "            pids.append(reviewswithtime[i][0])\n",
    "    return pids"
   ]
  },
  {
   "cell_type": "markdown",
   "metadata": {},
   "source": [
    "# Every tuple in this dataset is as follows:\n",
    "( user id, product id, rating score, current genre, previous genres ....)\n",
    "user id: 0\n",
    "product id: 1\n",
    "rating score: 2\n",
    "current genre: 3 \n",
    "previous genres: 4-end"
   ]
  },
  {
   "cell_type": "code",
   "execution_count": 9,
   "metadata": {
    "collapsed": false
   },
   "outputs": [],
   "source": [
    "datag = []\n",
    "depth = 3\n",
    "dg = 'anything'\n",
    "for d in data:\n",
    "    index = list(useritems[d[0]]).index(d[1])\n",
    "    cgenre = getCategory(d[1],categories,catindex,depth)\n",
    "    if gethexdig(cgenre) not in ghashed:\n",
    "        cgenre = dg\n",
    "    cats = defaultdict(int)\n",
    "    if not index==0:\n",
    "        pids = reviews_before_in_same_year(d[0], d[1])\n",
    "        for p in pids:\n",
    "            cat = getCategory(p, categories, catindex, depth)\n",
    "            if gethexdig(cat) not in ghashed :\n",
    "                cat = dg\n",
    "            cats[cat]+=1\n",
    "    tup = (d[:3] + (cgenre,))\n",
    "    for c in cats:\n",
    "        tup = tup + (c, cats[c])\n",
    "    datag.append(tup)"
   ]
  },
  {
   "cell_type": "code",
   "execution_count": 10,
   "metadata": {
    "collapsed": false
   },
   "outputs": [
    {
     "data": {
      "text/plain": [
       "'A1YXHALQFWN45C'"
      ]
     },
     "execution_count": 10,
     "metadata": {},
     "output_type": "execute_result"
    }
   ],
   "source": [
    "datag[0][0]"
   ]
  },
  {
   "cell_type": "code",
   "execution_count": 11,
   "metadata": {
    "collapsed": false
   },
   "outputs": [],
   "source": [
    "users = {}\n",
    "products = {}\n",
    "us = set()\n",
    "ps = set()\n",
    "genres = defaultdict(int)\n",
    "gs  = set()\n",
    "i = 0\n",
    "j = 0\n",
    "k = 0\n",
    "for d in datag:\n",
    "    if d[0] not in us:\n",
    "        users[d[0]] = i\n",
    "        i+=1\n",
    "        us.add(d[0])\n",
    "    if d[1] not in ps:\n",
    "        products[d[1]] = j\n",
    "        j+=1\n",
    "        ps.add(d[1])\n",
    "    if d[3] not in gs:\n",
    "        gs.add(d[3])\n",
    "        genres[d[3]] = k\n",
    "        k+=1"
   ]
  },
  {
   "cell_type": "code",
   "execution_count": 12,
   "metadata": {
    "collapsed": false
   },
   "outputs": [
    {
     "data": {
      "text/plain": [
       "51"
      ]
     },
     "execution_count": 12,
     "metadata": {},
     "output_type": "execute_result"
    }
   ],
   "source": [
    "gside = len(genres)\n",
    "gside"
   ]
  },
  {
   "cell_type": "code",
   "execution_count": 13,
   "metadata": {
    "collapsed": false
   },
   "outputs": [],
   "source": [
    "# datag = list(set(datag))\n",
    "# # np.random.shuffle(datag)\n",
    "# dtest = set()\n",
    "# dvalid= set() #to choose best regualrization parameter and dimninsionality of factor vectors \n",
    "# dtestusers = defaultdict(int)\n",
    "# dvalidusers = defaultdict(int)\n",
    "# for d in datag:\n",
    "#     cr = len(itemsuserrated[d[0]])\n",
    "#     vc = int((cr * 20)/float(100))\n",
    "#     if dtestusers[d[0]]< vc:\n",
    "#         dtestusers[d[0]] +=1\n",
    "#         dtest.add(d)\n",
    "#     if d not in dtest and dvalidusers[d[0]]<vc:\n",
    "#         dvalidusers[d[0]]+=1\n",
    "#         dvalid.add(d)\n",
    "\n",
    "# dtrain = set()\n",
    "# for d in datag:\n",
    "#     if d not in dtest and d not in dvalid:\n",
    "#         dtrain.add(d)\n",
    "# dtrain = list(dtrain)\n",
    "# dtest = list(dtest)"
   ]
  },
  {
   "cell_type": "code",
   "execution_count": 14,
   "metadata": {
    "collapsed": false
   },
   "outputs": [
    {
     "name": "stdout",
     "output_type": "stream",
     "text": [
      "40227 13409 13410 67046\n",
      "True\n"
     ]
    }
   ],
   "source": [
    "x60 = int((len(datag) * 60) / float(100))\n",
    "x20 = int((len(datag) * 20) / float(100))\n",
    "dtrain = datag[:x60]\n",
    "dvalid = datag[x60: x60+ x20]\n",
    "end =  x60+ x20\n",
    "dtest = datag[end:]\n",
    "print len(dtrain), len(dvalid), len(dtest), len(datag)\n",
    "print len(dtrain) + len(dvalid) + len(dtest) == len(datag)"
   ]
  },
  {
   "cell_type": "code",
   "execution_count": 15,
   "metadata": {
    "collapsed": false
   },
   "outputs": [
    {
     "data": {
      "text/plain": [
       "'A1YXHALQFWN45C'"
      ]
     },
     "execution_count": 15,
     "metadata": {},
     "output_type": "execute_result"
    }
   ],
   "source": [
    "dtrain[0][0]"
   ]
  },
  {
   "cell_type": "code",
   "execution_count": 16,
   "metadata": {
    "collapsed": false
   },
   "outputs": [],
   "source": [
    "us = set()\n",
    "ps = set()\n",
    "gs = set()\n",
    "for d in datag:\n",
    "    us.add(d[0])\n",
    "    ps.add(d[1])\n",
    "    for i in range(4,len(d),2):\n",
    "        gs.add((d[i], d[3]))"
   ]
  },
  {
   "cell_type": "code",
   "execution_count": 17,
   "metadata": {
    "collapsed": true
   },
   "outputs": [],
   "source": [
    "uintrain = set()\n",
    "pintrain = set()\n",
    "gintrain = set()\n",
    "for d in dtrain:\n",
    "    pintrain.add(d[1])\n",
    "    uintrain.add(d[0])\n",
    "    for i in xrange(4, len(d),2):\n",
    "        gintrain.add((d[i], d[3]))"
   ]
  },
  {
   "cell_type": "code",
   "execution_count": 18,
   "metadata": {
    "collapsed": false
   },
   "outputs": [
    {
     "data": {
      "text/plain": [
       "(2601, 2601)"
      ]
     },
     "execution_count": 18,
     "metadata": {},
     "output_type": "execute_result"
    }
   ],
   "source": [
    "len(gintrain), len(gs)"
   ]
  },
  {
   "cell_type": "code",
   "execution_count": 19,
   "metadata": {
    "collapsed": false
   },
   "outputs": [],
   "source": [
    "def getPredictions(params,k, data):\n",
    "    alphao = params[0]\n",
    "    betauo = params[1: len(users)+1]\n",
    "    end = len(users)+1\n",
    "    betaio = params[end: end+len(products)]\n",
    "    end = end+len(products)\n",
    "    bij = np.array(params[end: end+(gside**2)])\n",
    "    betaggo = bij.reshape(gside, gside)\n",
    "    end = end + (gside**2)\n",
    "    gss = np.array(params[end:])\n",
    "    grr = gss.reshape(len(users)+len(products),k)\n",
    "    gammuo = grr[:len(users),:]\n",
    "    gammio = grr[len(users):,:]\n",
    "    predictions = []\n",
    "    for d in data:\n",
    "        pred = alphao + betauo[users[d[0]]] + betaio[products[d[1]]] + (gammuo[users[d[0]]].T.dot(gammio[products[d[1]]]))\n",
    "        for i in xrange(4, len(d), 2):\n",
    "            pred += betaggo[genres[d[i]]][genres[d[3]]] * np.log10(d[i+1])\n",
    "        predictions.append(pred)\n",
    "    return predictions"
   ]
  },
  {
   "cell_type": "code",
   "execution_count": 20,
   "metadata": {
    "collapsed": true
   },
   "outputs": [],
   "source": [
    "def mse(params,k, data):\n",
    "    s = 0\n",
    "    predictions = getPredictions(params, k, data)\n",
    "    for i, d in enumerate(data):\n",
    "        s+= (predictions[i] - d[2])**2\n",
    "    s = s\n",
    "    return s / float(len(data))"
   ]
  },
  {
   "cell_type": "code",
   "execution_count": 21,
   "metadata": {
    "collapsed": true
   },
   "outputs": [],
   "source": [
    "def mean(data):\n",
    "    s = 0\n",
    "    for d in data:\n",
    "        s+= d[2]\n",
    "    return  s/ float(len(data))"
   ]
  },
  {
   "cell_type": "code",
   "execution_count": 22,
   "metadata": {
    "collapsed": true
   },
   "outputs": [],
   "source": [
    "def variance(data):\n",
    "    m = mean(data)\n",
    "    s = 0\n",
    "    for d in data:\n",
    "        s += (m - d[2]) ** 2\n",
    "    return s/float(len(data))"
   ]
  },
  {
   "cell_type": "code",
   "execution_count": 23,
   "metadata": {
    "collapsed": true
   },
   "outputs": [],
   "source": [
    "def rmse(params,k,data):\n",
    "    predictions = getPredictions(params, k, data)\n",
    "    s = 0\n",
    "    for i, d in enumerate(data):\n",
    "        s+= (predictions[i] - d[2])**2\n",
    "    return math.sqrt(s / float(len(data)))"
   ]
  },
  {
   "cell_type": "code",
   "execution_count": 24,
   "metadata": {
    "collapsed": true
   },
   "outputs": [],
   "source": [
    "def Rsquare_statistic(params,k, data):\n",
    "    predictions = getPredictions(params,k, data)\n",
    "    error = mse(params,k, data)\n",
    "    var = variance(data)\n",
    "    return error/float(var)"
   ]
  },
  {
   "cell_type": "code",
   "execution_count": 25,
   "metadata": {
    "collapsed": false
   },
   "outputs": [],
   "source": [
    "def compute_cost(initial,lam1, lam2, k, data):\n",
    "    alpha = initial[0]\n",
    "    betau = initial[1:len(users) + 1]\n",
    "    end = len(users)+1\n",
    "    betai = initial[end:end + len(products)]\n",
    "    end = end + len(products)\n",
    "    bij = np.array(initial[end: end+(gside**2)])\n",
    "    betagg = bij.reshape(gside, gside)\n",
    "    end = end + (gside**2)\n",
    "    gss = np.array(initial[end:])\n",
    "    gr = gss.reshape(len(users)+len(products),k)\n",
    "    gammu = gr[:len(users),:]\n",
    "    gammi = gr[len(users):,:]\n",
    "    J = 0\n",
    "    for d in data:\n",
    "        term = alpha + betau[users[d[0]]] + betai[products[d[1]]] +(gammu[users[d[0]]].T.dot(gammi[products[d[1]]])) - d[2]\n",
    "        for i in xrange(4, len(d), 2):\n",
    "            term +=  betagg[genres[d[i]]][genres[d[3]]]* np.log10(d[i+1])\n",
    "        J+= term ** 2\n",
    "    for u in us:\n",
    "        J += lam1 * (np.square(betau[users[u]])+ np.sum(np.square(gammu[users[u]])))\n",
    "    for p in ps:\n",
    "        J+= lam1 * ( np.square(betai[products[p]]) + np.sum(np.square(gammi[products[p]])))\n",
    "    for g in gintrain:\n",
    "        J+= lam2 * np.square(betagg[genres[g[0]]][genres[g[1]]])\n",
    "    gr = compute_gradient(alpha, betau, betai, betagg, gammu, gammi,lam1, lam2, k, data)\n",
    "    return J, gr.flatten()"
   ]
  },
  {
   "cell_type": "code",
   "execution_count": 26,
   "metadata": {
    "collapsed": false
   },
   "outputs": [],
   "source": [
    "def compute_gradient(alpha,betau, betai,betagg, gammu, gammi,lam1, lam2, k, data):\n",
    "    ga = 0\n",
    "    gbu = np.zeros(len(users))\n",
    "    gbi = np.zeros(len(products))\n",
    "    ggu = np.zeros((len(users),k))\n",
    "    ggi = np.zeros((len(products),k))\n",
    "    gbgg = np.zeros((gside, gside))\n",
    "    for d in data:\n",
    "        term = alpha + betau[users[d[0]]] + betai[products[d[1]]] +(gammu[users[d[0]]].T.dot(gammi[products[d[1]]])) - d[2]\n",
    "        for i in xrange(4, len(d),2):\n",
    "            term +=  betagg[genres[d[i]]][genres[d[3]]] * np.log10(d[i+1])\n",
    "        ga+= 2 * term\n",
    "        gbu[users[d[0]]] += 2 * term\n",
    "        gbi[products[d[1]]] += 2 * term\n",
    "        ggu[users[d[0]]] += 2 * gammi[products[d[1]]] * term\n",
    "        ggi[products[d[1]]] += 2 * gammu[users[d[0]]] * term\n",
    "        for i in xrange(4, len(d),2):\n",
    "            gbgg[genres[d[i]]][genres[d[3]]] += 2* term * np.log10(d[i+1])\n",
    "    for u in us:\n",
    "        gbu[users[u]] += 2 * lam1 * betau[users[u]]\n",
    "        ggu[users[u]] += 2 * lam1 * gammu[users[u]]\n",
    "    for p in ps:\n",
    "        gbi[products[p]] += 2 * lam1 * betai[products[p]]\n",
    "        ggi[products[p]] += 2 * lam1 * gammi[products[p]]\n",
    "    for g in gintrain:\n",
    "        gbgg[genres[g[0]]][genres[g[1]]] += 2 * lam2 * betagg[genres[g[0]]][genres[g[1]]]\n",
    "    return np.array([ga] + list(gbu) + list(gbi) + list(gbgg.flatten()) + list(ggu.flatten())+ list(ggi.flatten()))"
   ]
  },
  {
   "cell_type": "code",
   "execution_count": 30,
   "metadata": {
    "collapsed": true
   },
   "outputs": [],
   "source": [
    "def cost(initial, k, data):\n",
    "    alpha = initial[0]\n",
    "    betau = initial[1:len(users) + 1]\n",
    "    end = len(users)+1\n",
    "    betai = initial[end:end + len(products)]\n",
    "    end = end + len(products)\n",
    "    bij = np.array(initial[end: end+(gside**2)])\n",
    "    betagg = bij.reshape(gside, gside)\n",
    "    end = end + (gside**2)\n",
    "    gss = np.array(initial[end:])\n",
    "    gr = gss.reshape(len(users)+len(products),k)\n",
    "    gammu = gr[:len(users),:]\n",
    "    gammi = gr[len(users):,:]\n",
    "    J = 0\n",
    "    for d in data:\n",
    "        term = alpha + betau[users[d[0]]] + betai[products[d[1]]] +(gammu[users[d[0]]].T.dot(gammi[products[d[1]]])) - d[2]\n",
    "        for i in xrange(4, len(d), 2):\n",
    "            term +=  betagg[genres[d[i]]][genres[d[3]]]* np.log10(d[i+1])\n",
    "        J+= term ** 2\n",
    "\n",
    "    return J"
   ]
  },
  {
   "cell_type": "code",
   "execution_count": 31,
   "metadata": {
    "collapsed": true
   },
   "outputs": [],
   "source": [
    "# class ConvergedException(Exception):\n",
    "#     pass\n",
    "# def check(xk):\n",
    "#     global result\n",
    "#     global minmse\n",
    "#     global count\n",
    "#     global presult\n",
    "#     global nit \n",
    "    \n",
    "#     nit +=1\n",
    "# #     print nit\n",
    "\n",
    "#     cmse = mse(xk,k, dvalid)\n",
    "    \n",
    "#     if cmse > minmse:\n",
    "#         if nit >= 100:\n",
    "#             count +=1\n",
    "#             if count == 5:\n",
    "#                 print 'here'\n",
    "#                 result[:] = presult\n",
    "#                 raise ConvergedException()\n",
    "#                 return\n",
    "\n",
    "#     else:\n",
    "#         minmse = cmse\n",
    "#         presult[:] = xk\n",
    "#         count = 0\n",
    "# #     print cmse, minmse, presult[0]\n",
    "#     return\n",
    "    "
   ]
  },
  {
   "cell_type": "code",
   "execution_count": 32,
   "metadata": {
    "collapsed": true
   },
   "outputs": [],
   "source": [
    "# class ConvergedException(Exception):\n",
    "#     pass\n",
    "# def check_updated(xk):\n",
    "#     global result\n",
    "#     global presult\n",
    "#     global count\n",
    "#     global nit\n",
    "#     global pmse\n",
    "    \n",
    "#     count+=1\n",
    "#     nit+=1\n",
    "#     if count==20:\n",
    "#         count = 0\n",
    "#         cmse = mse(xk,k, dvalid)\n",
    "# #         print ccost\n",
    "#         if cmse> pmse:\n",
    "#             print 'here'\n",
    "#             result[:] = presult\n",
    "#             raise ConvergedException()\n",
    "#             return\n",
    "#         else:\n",
    "#             pmse = cmse\n",
    "#             presult[:] = xk    "
   ]
  },
  {
   "cell_type": "code",
   "execution_count": 33,
   "metadata": {
    "collapsed": false
   },
   "outputs": [],
   "source": [
    "k = 10\n",
    "s = 0\n",
    "for d in data:\n",
    "    s+= d[2]\n",
    "alpha = s / float(len(data))\n",
    "betau = np.random.normal(0,0.1, len(users))\n",
    "betai = np.random.normal(0,0.1, len(products))\n",
    "betagg = np.random.normal(0,0.1, (gside, gside))\n",
    "for u in users:\n",
    "    if u not in uintrain:\n",
    "        betau[users[u]] = 0\n",
    "for p in products:\n",
    "    if p not in pintrain:\n",
    "        betai[products[p]] = 0\n",
    "for g in gs:\n",
    "    if g not in gintrain:\n",
    "        betagg[genres[g[0]]][genres[g[1]]] = 0\n",
    "gammu = np.random.normal(0,0.1, (len(users), k)) \n",
    "gammi = np.random.normal(0,0.1, (len(products), k)) \n",
    "for u in users:\n",
    "    if u not in uintrain:\n",
    "        gammu[users[u]] = 0\n",
    "for p in products:\n",
    "    if p not in pintrain:\n",
    "        gammi[products[p]] = 0\n",
    "initial = [alpha] + list(betau) + list(betai) + list(betagg.flatten()) + list(gammu.flatten()) + list(gammi.flatten())"
   ]
  },
  {
   "cell_type": "code",
   "execution_count": 34,
   "metadata": {
    "collapsed": true
   },
   "outputs": [],
   "source": [
    "class ConvergedException(Exception):\n",
    "    pass\n",
    "def check_updated(xk):\n",
    "    global result\n",
    "    global minmse\n",
    "    global count\n",
    "    global presult\n",
    "    global nit \n",
    "    \n",
    "    nit +=1\n",
    "#     print nit\n",
    "\n",
    "#     cmse = mse(xk,k, dvalid)\n",
    "    cmse = cost(xk, k , dvalid)\n",
    "    if cmse > minmse:\n",
    "            count +=1\n",
    "            if count == 30:\n",
    "                print 'here'\n",
    "                result[:] = presult\n",
    "                raise ConvergedException()\n",
    "                return\n",
    "\n",
    "    else:\n",
    "        minmse = cmse\n",
    "        presult[:] = xk\n",
    "        count = 0\n",
    "#     print cmse, minmse, presult[0]\n",
    "    return\n",
    "    "
   ]
  },
  {
   "cell_type": "code",
   "execution_count": null,
   "metadata": {
    "collapsed": false
   },
   "outputs": [
    {
     "name": "stdout",
     "output_type": "stream",
     "text": [
      "here\n",
      "converged after: 131\n",
      "lambda \"10\" -> \"0\" :  10582.7388705 10330.9586175 0.789226554593 0.770392141502\n",
      "here\n",
      "converged after: 135\n",
      "lambda \"10\" -> \"0.0001\" :  10584.066221 10334.212154 0.789325544115 0.77063476167\n",
      "here\n",
      "converged after: 129\n",
      "lambda \"10\" -> \"0.001\" :  10572.3454566 10328.731895 0.788451447281 0.770226092092\n",
      "here\n",
      "converged after: 131\n",
      "lambda \"10\" -> \"0.01\" :  10574.1059799 10322.6866711 0.788582741435 0.769775292403\n",
      "here\n",
      "converged after: 130\n",
      "lambda \"10\" -> \"0.1\" :  10575.5493386 10327.1976437 0.788690382477 0.770111681108"
     ]
    }
   ],
   "source": [
    "lams1 = [10]\n",
    "lams2 = [0, 0.0001, 0.001, 0.01, 0.1, 1, 10, 100, 1000,10000, 100000]\n",
    "\n",
    "for l1 in lams1:\n",
    "    for l2 in lams2:\n",
    "        presult = []\n",
    "        count = 0\n",
    "        nit = 0\n",
    "        minmse = 100000000000\n",
    "        result = []\n",
    "        pms = []\n",
    "        try:\n",
    "            pms, c,d = fmin_l_bfgs_b(compute_cost, x0=initial,args=(l1,l2, k, dtrain, ), disp = 0, callback = check_updated)\n",
    "            pms = presult\n",
    "        except ConvergedException:\n",
    "            pms = result\n",
    "        print 'converged after: ' + str(nit)\n",
    "        print \"lambda \"+ '\"' +  str(l1) + '\" -> \"' + str(l2) + '\" : ' + ' '  + str(cost(pms, k, dvalid)) + ' ' + str(cost(pms,k, dtest)) + ' ' +  str(mse(pms, k, dvalid)) + ' ' + str(mse(pms,k, dtest))"
   ]
  },
  {
   "cell_type": "code",
   "execution_count": null,
   "metadata": {
    "collapsed": true
   },
   "outputs": [],
   "source": [
    "import matplotlib\n",
    "from pylab import *\n",
    "import matplotlib.pyplot as plt\n",
    "matplotlib.style.use('ggplot')\n",
    "lams = [0, 0.00001, 0.0001, 0.001, 0.01, 0.1, 1, 10, 100, 1000, 10000, 100000]\n",
    "x = lams\n",
    "y = [ 0.789226554593 , 0.789325544115, 0.788451447281, 0.788582741435 , 0.788690382477 \n",
    "    ]\n",
    "# color = ['blue'] * 7 + ['red'] + ['blue'] * 3\n",
    "plt.scatter(lams[7], y[7], color = 'black', s = 100, marker=\"o\")\n",
    "plt.semilogx(x, y, color = 'red')\n",
    "# legend = plt.legend(loc='upper right', shadow=True, fontsize='large')\n",
    "plt.xlabel('Lambda Value For Adjacent Genre Bias Terms')\n",
    "plt.ylabel('mse on Validation Set')\n",
    "plt.title(\"One Year Memory Pairwise Genre Bias Terms Model Regularization Parameter vs. mse\")\n",
    "plt.show()"
   ]
  },
  {
   "cell_type": "code",
   "execution_count": 59,
   "metadata": {
    "collapsed": false,
    "scrolled": true
   },
   "outputs": [
    {
     "name": "stdout",
     "output_type": "stream",
     "text": [
      "here\n",
      "converged\n",
      "lambda \"10\" -> \"0\" :  0.769601178227\n",
      "here\n",
      "converged\n",
      "lambda \"10\" -> \"0.0001\" :  0.769893885363\n",
      "here\n",
      "converged\n",
      "lambda \"10\" -> \"0.001\" :  0.770128099183\n",
      "here\n",
      "converged\n",
      "lambda \"10\" -> \"0.01\" :  0.770409379957\n",
      "here\n",
      "converged\n",
      "lambda \"10\" -> \"0.1\" :  0.769707303199\n",
      "here\n",
      "converged\n",
      "lambda \"10\" -> \"1\" :  0.767213764461\n",
      "here\n",
      "converged\n",
      "lambda \"10\" -> \"10\" :  0.757037253983\n",
      "here\n",
      "converged\n",
      "lambda \"10\" -> \"100\" :  0.751501591701\n",
      "here\n",
      "converged\n",
      "lambda \"10\" -> \"1000\" :  0.750998406342\n",
      "here\n",
      "converged\n",
      "lambda \"10\" -> \"10000\" :  0.754332050866\n"
     ]
    }
   ],
   "source": [
    "global result\n",
    "lams1 = [10]\n",
    "lams2 = [0, 0.0001, 0.001, 0.01, 0.1, 1, 10, 100, 1000, 10000]\n",
    "# lams2 = [1000000]\n",
    "with open('Regression baseline - 1 year memory log #times 100 core.csv', 'wb') as f:\n",
    "    writer = csv.DictWriter(f, fieldnames=['lambda1','lambda2','k','value'])\n",
    "    writer.writeheader()\n",
    "    for l1 in lams1:\n",
    "        for l2 in lams2: \n",
    "            minmse = mse(initialg,k,dvalid)\n",
    "            presult = []\n",
    "            params = []\n",
    "            count = 0\n",
    "            result = []\n",
    "            nit = 0\n",
    "            try:\n",
    "                params, c,d = fmin_l_bfgs_b(compute_cost, x0=initialg,args=(l1, l2 ,k, dtrain, ), disp = 0, callback = check)\n",
    "            except ConvergedException:\n",
    "                params = result\n",
    "            print 'converged'\n",
    "            print \"lambda \"+ '\"' +  str(l1) + '\" -> \"' + str(l2) + '\" : ' + ' ' + str(mse(params, k, dtest))\n",
    "            for i, v in enumerate(params):\n",
    "                writer.writerow({'lambda1': l1,'lambda2': l2, 'k': k, 'value': v})   "
   ]
  },
  {
   "cell_type": "code",
   "execution_count": 60,
   "metadata": {
    "collapsed": false
   },
   "outputs": [],
   "source": [
    "params = defaultdict(lambda: defaultdict(list))\n",
    "with open('Regression baseline - 1 year memory log #times 100 core.csv', 'rb') as csvfile:\n",
    "    reader = csv.DictReader(csvfile)\n",
    "    for row in reader:\n",
    "        params[(float(row['lambda1']), float(row['lambda2']))][int(row['k'])].append(float(row['value']))"
   ]
  },
  {
   "cell_type": "code",
   "execution_count": 61,
   "metadata": {
    "collapsed": false
   },
   "outputs": [
    {
     "data": {
      "text/plain": [
       "(10, (10.0, 1000.0))"
      ]
     },
     "execution_count": 61,
     "metadata": {},
     "output_type": "execute_result"
    }
   ],
   "source": [
    "op = []\n",
    "minCost = 1000000\n",
    "predictions = []\n",
    "for l in params:\n",
    "    for k in params[l]:\n",
    "        c= mse(params[l][k], k ,dvalid)\n",
    "#             print l1, k, c\n",
    "        if c < minCost:\n",
    "            minCost = c\n",
    "            minlambda = l\n",
    "            mink = k\n",
    "            op = params[l][k]\n",
    "mink, minlambda"
   ]
  },
  {
   "cell_type": "code",
   "execution_count": 64,
   "metadata": {
    "collapsed": true
   },
   "outputs": [],
   "source": [
    "# with open(\"1 Year Memory Model Optimized Parameters.csv\", \"wb\") as f:\n",
    "#     writer = csv.writer(f)\n",
    "#     for o in op:\n",
    "#         writer.writerow([o])"
   ]
  },
  {
   "cell_type": "code",
   "execution_count": 65,
   "metadata": {
    "collapsed": true
   },
   "outputs": [],
   "source": [
    "op = []\n",
    "with open(\"1 Year Memory Model Optimized Parameters.csv\", 'rb') as csvfile:\n",
    "    reader = csv.reader(csvfile)\n",
    "    for row in reader:\n",
    "        op.append(float(row[0]))"
   ]
  },
  {
   "cell_type": "code",
   "execution_count": null,
   "metadata": {
    "collapsed": true
   },
   "outputs": [],
   "source": []
  },
  {
   "cell_type": "code",
   "execution_count": 66,
   "metadata": {
    "collapsed": false
   },
   "outputs": [
    {
     "name": "stdout",
     "output_type": "stream",
     "text": [
      "mse: 0.750998406342\n"
     ]
    }
   ],
   "source": [
    "print \"mse: \" + str(mse(op,k,dtest))\n",
    "# print \"R Squared Statistic: \" + str( mse(op, k, dtest) /float(variance(data)))"
   ]
  },
  {
   "cell_type": "code",
   "execution_count": 67,
   "metadata": {
    "collapsed": false
   },
   "outputs": [
    {
     "data": {
      "text/plain": [
       "0.60351925007068252"
      ]
     },
     "execution_count": 67,
     "metadata": {},
     "output_type": "execute_result"
    }
   ],
   "source": [
    "mse(op, k, dtrain)"
   ]
  },
  {
   "cell_type": "code",
   "execution_count": 36,
   "metadata": {
    "collapsed": false
   },
   "outputs": [],
   "source": [
    "usergenres = defaultdict(lambda: set())\n",
    "for u in useritems:\n",
    "    for i in useritems[u]:\n",
    "        cat = getCategory(i, categories, catindex, 3)\n",
    "        if gethexdig(cat) not in ghashed:\n",
    "            cat = 'Anything'\n",
    "        usergenres[u].add(cat)"
   ]
  },
  {
   "cell_type": "code",
   "execution_count": 92,
   "metadata": {
    "collapsed": false
   },
   "outputs": [],
   "source": [
    "k = 10\n",
    "perfu = defaultdict(int)\n",
    "for j in range(len(genres)):\n",
    "    diverse = [ u for u in usergenres if len(usergenres[u]) > j]\n",
    "#     print len(diverse), len(dtest)\n",
    "    dlist = []\n",
    "#     ndlist = []\n",
    "    for d in dtest:\n",
    "        if d[0] in diverse:\n",
    "            dlist.append(d)\n",
    "#     print len(dlist)\n",
    "\n",
    "#         else: \n",
    "#             ndlist.append(d)\n",
    "    if len(dlist) > 0:\n",
    "        perfu[j] = mse(op, k , dlist)"
   ]
  },
  {
   "cell_type": "code",
   "execution_count": null,
   "metadata": {
    "collapsed": false
   },
   "outputs": [],
   "source": []
  },
  {
   "cell_type": "code",
   "execution_count": 178,
   "metadata": {
    "collapsed": false
   },
   "outputs": [],
   "source": [
    "x = [p for p in perfu]\n",
    "y = [perfu[p] for p in perfu]\n",
    "yb = [0.768155048088 for i in range(len(perf))]\n",
    "# for p in perf:\n",
    "plt.plot(x, y, color = 'red', label ='1 Year Memory (log #times)')\n",
    "plt.plot(x, yb, color = 'blue', label= 'Baseline')\n",
    "plt.xlabel('Number of Genres Read')\n",
    "plt.ylabel('mse')\n",
    "ylim(0,0.9)\n",
    "legend = plt.legend(loc='upper right', shadow=True, fontsize='large')\n",
    "plt.title('Performance of Model on Users Who Read N Number of Genres')\n",
    "plt.show()\n"
   ]
  },
  {
   "cell_type": "code",
   "execution_count": 90,
   "metadata": {
    "collapsed": false
   },
   "outputs": [],
   "source": [
    "k = 10\n",
    "perf = defaultdict(float)\n",
    "catlist = defaultdict(list)\n",
    "for j in range(len(genres)):\n",
    "    glist = []\n",
    "    for d in dtest:\n",
    "        cat = getCategory(d[1], categories, catindex, 3)\n",
    "        if gethexdig(cat) not in ghashed:\n",
    "            cat = 'Anything'\n",
    "        catlist[cat].append(d)\n",
    "for c in catlist:\n",
    "    perf[c] = mse(op, k, catlist[c])"
   ]
  },
  {
   "cell_type": "code",
   "execution_count": 179,
   "metadata": {
    "collapsed": false
   },
   "outputs": [],
   "source": [
    "labels = [p for p in perf]\n",
    "y = [perf[p] for p in perf]\n",
    "x = range(len(labels))\n",
    "yb = [0.768155048088 for i in range(len(perf))]\n",
    "# for p in perf:\n",
    "plt.plot(x, y, color = 'red', label ='1 Year Memory (log #times)')\n",
    "plt.xticks(x, labels, rotation='vertical')\n",
    "\n",
    "plt.plot(x, yb, color = 'blue', label= 'Baseline')\n",
    "plt.xlabel('Genre of Item')\n",
    "plt.ylabel('mse')\n",
    "legend = plt.legend(loc='upper right', shadow=True, fontsize='large')\n",
    "plt.title('Performance of Model According to Genre of Item')\n",
    "plt.show()"
   ]
  },
  {
   "cell_type": "code",
   "execution_count": 1,
   "metadata": {
    "collapsed": false
   },
   "outputs": [],
   "source": [
    "import matplotlib\n",
    "from pylab import *\n",
    "import matplotlib.pyplot as plt\n",
    "matplotlib.style.use('ggplot')\n",
    "lams2 = [0, 0.0001, 0.001, 0.01, 0.1, 1, 10, 100, 1000]\n",
    "\n",
    "x = lams2\n",
    "y = [0.781125413464, 0.782763031305, 0.7809551286, 0.782318380065, 0.781982051293, 0.779774698916, 0.770221247767, 0.765388004321,\n",
    "     0.809337339406]\n",
    "# color = ['blue'] * 7 + ['red'] + ['blue'] * 3\n",
    "plt.scatter(lams2[7], y[7], color = 'black', s = 100, marker=\"o\")\n",
    "plt.semilogx(x, y, color = 'red')\n",
    "# legend = plt.legend(loc='upper right', shadow=True, fontsize='large')\n",
    "plt.xlabel('Lambda Value For the 1 Year Memory Pairwise Genre Bias Terms')\n",
    "plt.title(\"1 Year Memory Pairwise Genre Bias Terms Model Regularization Graph\")\n",
    "plt.ylabel('mse on Validation Set')\n",
    "plt.show()"
   ]
  },
  {
   "cell_type": "code",
   "execution_count": null,
   "metadata": {
    "collapsed": false
   },
   "outputs": [],
   "source": [
    "cpersorted = [ c[0] for c in sorted(perf.iteritems(), key = operator.itemgetter(1))[:5]]\n",
    "\n",
    "usergenres = defaultdict(lambda: set())\n",
    "userreviews = defaultdict(int)\n",
    "for u in useritems:\n",
    "    for i in useritems[u]:\n",
    "        cat = getCategory(i, categories, catindex, 3)\n",
    "        if gethexdig(cat) not in ghashed:\n",
    "            cat = 'Anything'\n",
    "        if cat in cpersorted:\n",
    "            usergenres[u].add(cat)\n",
    "        userreviews[u]+=1"
   ]
  },
  {
   "cell_type": "code",
   "execution_count": null,
   "metadata": {
    "collapsed": true
   },
   "outputs": [],
   "source": [
    "m = 0\n",
    "for u in useritems:\n",
    "    if len(useritems[u]) > m:\n",
    "        m = len(useritems[u])"
   ]
  },
  {
   "cell_type": "code",
   "execution_count": 213,
   "metadata": {
    "collapsed": false
   },
   "outputs": [],
   "source": [
    "k = 10\n",
    "perfu = defaultdict(int)\n",
    "for j in range(len(genres)):\n",
    "    diverse = [ u for u in usergenres if len(usergenres[u]) > j]\n",
    "#     print len(diverse), len(dtest)\n",
    "    dlist = []\n",
    "#     ndlist = []\n",
    "    for d in dtest:\n",
    "        if d[0] in diverse and getCategory(d[1], categories, catindex, 3) in cpersorted:\n",
    "            dlist.append(d)\n",
    "#     print len(dlist)\n",
    "\n",
    "#         else: \n",
    "#             ndlist.append(d)\n",
    "    if len(dlist) > 0:\n",
    "        perfu[j] = mse(op, k , dlist)"
   ]
  },
  {
   "cell_type": "code",
   "execution_count": 214,
   "metadata": {
    "collapsed": false
   },
   "outputs": [
    {
     "ename": "KeyboardInterrupt",
     "evalue": "",
     "output_type": "error",
     "traceback": [
      "\u001b[1;31m---------------------------------------------------------------------------\u001b[0m",
      "\u001b[1;31mKeyboardInterrupt\u001b[0m                         Traceback (most recent call last)",
      "\u001b[1;32m<ipython-input-214-6218f0a02c64>\u001b[0m in \u001b[0;36m<module>\u001b[1;34m()\u001b[0m\n\u001b[0;32m     10\u001b[0m \u001b[0mlegend\u001b[0m \u001b[1;33m=\u001b[0m \u001b[0mplt\u001b[0m\u001b[1;33m.\u001b[0m\u001b[0mlegend\u001b[0m\u001b[1;33m(\u001b[0m\u001b[0mloc\u001b[0m\u001b[1;33m=\u001b[0m\u001b[1;34m'upper right'\u001b[0m\u001b[1;33m,\u001b[0m \u001b[0mshadow\u001b[0m\u001b[1;33m=\u001b[0m\u001b[0mTrue\u001b[0m\u001b[1;33m,\u001b[0m \u001b[0mfontsize\u001b[0m\u001b[1;33m=\u001b[0m\u001b[1;34m'large'\u001b[0m\u001b[1;33m)\u001b[0m\u001b[1;33m\u001b[0m\u001b[0m\n\u001b[0;32m     11\u001b[0m \u001b[0mplt\u001b[0m\u001b[1;33m.\u001b[0m\u001b[0mtitle\u001b[0m\u001b[1;33m(\u001b[0m\u001b[1;34m'Performance of Model on Users Who Read N Number of Genres'\u001b[0m\u001b[1;33m)\u001b[0m\u001b[1;33m\u001b[0m\u001b[0m\n\u001b[1;32m---> 12\u001b[1;33m \u001b[0mplt\u001b[0m\u001b[1;33m.\u001b[0m\u001b[0mshow\u001b[0m\u001b[1;33m(\u001b[0m\u001b[1;33m)\u001b[0m\u001b[1;33m\u001b[0m\u001b[0m\n\u001b[0m",
      "\u001b[1;32mc:\\python27\\lib\\site-packages\\matplotlib\\pyplot.pyc\u001b[0m in \u001b[0;36mshow\u001b[1;34m(*args, **kw)\u001b[0m\n\u001b[0;32m    242\u001b[0m     \"\"\"\n\u001b[0;32m    243\u001b[0m     \u001b[1;32mglobal\u001b[0m \u001b[0m_show\u001b[0m\u001b[1;33m\u001b[0m\u001b[0m\n\u001b[1;32m--> 244\u001b[1;33m     \u001b[1;32mreturn\u001b[0m \u001b[0m_show\u001b[0m\u001b[1;33m(\u001b[0m\u001b[1;33m*\u001b[0m\u001b[0margs\u001b[0m\u001b[1;33m,\u001b[0m \u001b[1;33m**\u001b[0m\u001b[0mkw\u001b[0m\u001b[1;33m)\u001b[0m\u001b[1;33m\u001b[0m\u001b[0m\n\u001b[0m\u001b[0;32m    245\u001b[0m \u001b[1;33m\u001b[0m\u001b[0m\n\u001b[0;32m    246\u001b[0m \u001b[1;33m\u001b[0m\u001b[0m\n",
      "\u001b[1;32mc:\\python27\\lib\\site-packages\\matplotlib\\backend_bases.pyc\u001b[0m in \u001b[0;36m__call__\u001b[1;34m(self, block)\u001b[0m\n\u001b[0;32m    190\u001b[0m \u001b[1;33m\u001b[0m\u001b[0m\n\u001b[0;32m    191\u001b[0m         \u001b[1;32mif\u001b[0m \u001b[1;32mnot\u001b[0m \u001b[0mis_interactive\u001b[0m\u001b[1;33m(\u001b[0m\u001b[1;33m)\u001b[0m \u001b[1;32mor\u001b[0m \u001b[0mget_backend\u001b[0m\u001b[1;33m(\u001b[0m\u001b[1;33m)\u001b[0m \u001b[1;33m==\u001b[0m \u001b[1;34m'WebAgg'\u001b[0m\u001b[1;33m:\u001b[0m\u001b[1;33m\u001b[0m\u001b[0m\n\u001b[1;32m--> 192\u001b[1;33m             \u001b[0mself\u001b[0m\u001b[1;33m.\u001b[0m\u001b[0mmainloop\u001b[0m\u001b[1;33m(\u001b[0m\u001b[1;33m)\u001b[0m\u001b[1;33m\u001b[0m\u001b[0m\n\u001b[0m\u001b[0;32m    193\u001b[0m \u001b[1;33m\u001b[0m\u001b[0m\n\u001b[0;32m    194\u001b[0m     \u001b[1;32mdef\u001b[0m \u001b[0mmainloop\u001b[0m\u001b[1;33m(\u001b[0m\u001b[0mself\u001b[0m\u001b[1;33m)\u001b[0m\u001b[1;33m:\u001b[0m\u001b[1;33m\u001b[0m\u001b[0m\n",
      "\u001b[1;32mc:\\python27\\lib\\site-packages\\matplotlib\\backends\\backend_tkagg.pyc\u001b[0m in \u001b[0;36mmainloop\u001b[1;34m(self)\u001b[0m\n\u001b[0;32m     72\u001b[0m \u001b[1;32mclass\u001b[0m \u001b[0mShow\u001b[0m\u001b[1;33m(\u001b[0m\u001b[0mShowBase\u001b[0m\u001b[1;33m)\u001b[0m\u001b[1;33m:\u001b[0m\u001b[1;33m\u001b[0m\u001b[0m\n\u001b[0;32m     73\u001b[0m     \u001b[1;32mdef\u001b[0m \u001b[0mmainloop\u001b[0m\u001b[1;33m(\u001b[0m\u001b[0mself\u001b[0m\u001b[1;33m)\u001b[0m\u001b[1;33m:\u001b[0m\u001b[1;33m\u001b[0m\u001b[0m\n\u001b[1;32m---> 74\u001b[1;33m         \u001b[0mTk\u001b[0m\u001b[1;33m.\u001b[0m\u001b[0mmainloop\u001b[0m\u001b[1;33m(\u001b[0m\u001b[1;33m)\u001b[0m\u001b[1;33m\u001b[0m\u001b[0m\n\u001b[0m\u001b[0;32m     75\u001b[0m \u001b[1;33m\u001b[0m\u001b[0m\n\u001b[0;32m     76\u001b[0m \u001b[0mshow\u001b[0m \u001b[1;33m=\u001b[0m \u001b[0mShow\u001b[0m\u001b[1;33m(\u001b[0m\u001b[1;33m)\u001b[0m\u001b[1;33m\u001b[0m\u001b[0m\n",
      "\u001b[1;32mc:\\python27\\lib\\lib-tk\\Tkinter.pyc\u001b[0m in \u001b[0;36mmainloop\u001b[1;34m(n)\u001b[0m\n\u001b[0;32m    412\u001b[0m \u001b[1;32mdef\u001b[0m \u001b[0mmainloop\u001b[0m\u001b[1;33m(\u001b[0m\u001b[0mn\u001b[0m\u001b[1;33m=\u001b[0m\u001b[1;36m0\u001b[0m\u001b[1;33m)\u001b[0m\u001b[1;33m:\u001b[0m\u001b[1;33m\u001b[0m\u001b[0m\n\u001b[0;32m    413\u001b[0m     \u001b[1;34m\"\"\"Run the main loop of Tcl.\"\"\"\u001b[0m\u001b[1;33m\u001b[0m\u001b[0m\n\u001b[1;32m--> 414\u001b[1;33m     \u001b[0m_default_root\u001b[0m\u001b[1;33m.\u001b[0m\u001b[0mtk\u001b[0m\u001b[1;33m.\u001b[0m\u001b[0mmainloop\u001b[0m\u001b[1;33m(\u001b[0m\u001b[0mn\u001b[0m\u001b[1;33m)\u001b[0m\u001b[1;33m\u001b[0m\u001b[0m\n\u001b[0m\u001b[0;32m    415\u001b[0m \u001b[1;33m\u001b[0m\u001b[0m\n\u001b[0;32m    416\u001b[0m \u001b[0mgetint\u001b[0m \u001b[1;33m=\u001b[0m \u001b[0mint\u001b[0m\u001b[1;33m\u001b[0m\u001b[0m\n",
      "\u001b[1;31mKeyboardInterrupt\u001b[0m: "
     ]
    }
   ],
   "source": [
    "x = [p for p in perfu]\n",
    "y = [perfu[p] for p in perfu]\n",
    "yb = [0.768155048088 for i in range(len(perfu))]\n",
    "# for p in perf:\n",
    "plt.plot(x, y, color = 'red', label ='1 Year Memory (log #times)')\n",
    "plt.plot(x, yb, color = 'blue', label= 'Baseline')\n",
    "plt.xlabel('Number of Genres Read')\n",
    "plt.ylabel('mse')\n",
    "ylim(0,0.9)\n",
    "legend = plt.legend(loc='upper right', shadow=True, fontsize='large')\n",
    "plt.title('Performance of Model on Users Who Read N Number of Genres')\n",
    "plt.show()\n"
   ]
  },
  {
   "cell_type": "code",
   "execution_count": 121,
   "metadata": {
    "collapsed": false
   },
   "outputs": [],
   "source": [
    "ls = [g for g in gpop] "
   ]
  },
  {
   "cell_type": "code",
   "execution_count": 118,
   "metadata": {
    "collapsed": false
   },
   "outputs": [],
   "source": [
    "gpop = defaultdict(float)\n",
    "for d in dtrain:\n",
    "    cat = getCategory(d[1], categories, catindex, 3)\n",
    "    if gethexdig(cat) not in ghashed:\n",
    "        cat = 'Anything'\n",
    "    gpop[cat] +=1\n",
    "for g in gpop:\n",
    "    gpop[g] = gpop[g] / float(len(dtrain))\n"
   ]
  },
  {
   "cell_type": "code",
   "execution_count": 183,
   "metadata": {
    "collapsed": false
   },
   "outputs": [],
   "source": [
    "labelsper= [p for p in perf]\n",
    "# labelspop =[p for p in gpop]\n",
    "yper = []\n",
    "ypop = []\n",
    "for p in perf:\n",
    "    yper.append(perf[p])\n",
    "    ypop.append(gpop[p])\n",
    "\n",
    "    \n",
    "# y = [perf[p] for p in perf]\n",
    "x = range(len(labelsper))\n",
    "yb = [0.768155048088 for i in range(len(perf))]\n",
    "# for p in perf:\n",
    "plt.bar(x, yper, color = 'red', label ='Performance According To Genre')\n",
    "plt.xticks(x, labels, rotation='vertical')\n",
    "\n",
    "plt.bar(x, ypop, color = 'blue', label= 'Genre Popularity in Training set')\n",
    "plt.xlabel('Genre of Item')\n",
    "plt.ylabel('mse / genre popularity')\n",
    "legend = plt.legend(loc='upper right', shadow=True, fontsize='large')\n",
    "plt.title('Genre Performance Vs. Genre Popularity')\n",
    "plt.show()"
   ]
  },
  {
   "cell_type": "code",
   "execution_count": 186,
   "metadata": {
    "collapsed": false
   },
   "outputs": [],
   "source": [
    "y = np.matrix([yper, ypop])\n",
    "y = y.reshape((51, 2))\n",
    "df2 = pd.DataFrame(y, columns= ['Genre mse', 'Genre Popularity'], index = labelsper)\n",
    "df2.plot.bar()\n",
    "plt.xlabel('Genre of Item')\n",
    "plt.ylabel('mse / genre popularity')\n",
    "plt.title('Genre mse Vs. Genre Popularity in Training Set')\n",
    "plt.show()"
   ]
  },
  {
   "cell_type": "code",
   "execution_count": 70,
   "metadata": {
    "collapsed": true
   },
   "outputs": [],
   "source": [
    "def computeNumericalGradient(params,grad, lam,k, data):\n",
    "    e = 1e-4\n",
    "    numgrads = np.zeros(len(params))\n",
    "    pp = np.zeros(len(params))\n",
    "    for i,p in enumerate(params):\n",
    "        pp[i] = e\n",
    "        loss1,_ = compute_cost(params-pp, lam, k,data)\n",
    "        loss2,_ = compute_cost(params+pp, lam,k, data)\n",
    "#         print loss1, loss2\n",
    "        numgrads[i] = (loss2 - loss1) / float(2*e)\n",
    "        pp[i] = 0\n",
    "        print round(numgrads[i], 3), round(grad[i], 3)\n",
    "#         print abs(numgrads[i]-grad[i])\n",
    "    return numgrads"
   ]
  },
  {
   "cell_type": "code",
   "execution_count": 157,
   "metadata": {
    "collapsed": false
   },
   "outputs": [],
   "source": [
    "# alpha = s / float(len(data))\n",
    "# betau = np.random.normal(0,0.1, len(users))\n",
    "# betai = np.random.normal(0,0.1, len(products))\n",
    "# betagg = np.random.normal(0,0.1, (gside, gside))\n",
    "# initial = [alpha] + list(betau) + list(betai) + list(betagg.flatten())\n",
    "# gammu = np.random.normal(0,0.1, (len(users), k)) \n",
    "# gammi = np.random.normal(0,0.1, (len(products), k)) \n",
    "# initial += list(gammu.flatten()) + list(gammi.flatten())\n",
    "# k = 1\n",
    "# g = compute_gradient(alpha, betau, betai,betagg, gammu, gammi, 0, k, dtrain)\n",
    "# computeNumericalGradient(initial,g , 0, k , dtrain )\n",
    "# # gammu"
   ]
  },
  {
   "cell_type": "code",
   "execution_count": 48,
   "metadata": {
    "collapsed": true
   },
   "outputs": [],
   "source": [
    "params = op\n",
    "k = mink\n",
    "alphao = params[0]\n",
    "betauo = params[1: len(users)+1]\n",
    "end = len(users)+1\n",
    "betaio = params[end: end+len(products)]\n",
    "end = end+len(products)\n",
    "bij = np.array(params[end: end+(gside**2)])\n",
    "betaggo = bij.reshape(gside, gside)\n",
    "end = end + (gside**2)\n",
    "gs = np.array(params[end:])\n",
    "gr = gs.reshape(len(users)+len(products),k)\n",
    "gammuo = gr[:len(users),:]\n",
    "gammio = gr[len(users):,:]"
   ]
  },
  {
   "cell_type": "code",
   "execution_count": 49,
   "metadata": {
    "collapsed": true
   },
   "outputs": [],
   "source": [
    "def get_genre_from_id(i):\n",
    "    for g in genres:\n",
    "        if genres[g] == i:\n",
    "            return g"
   ]
  },
  {
   "cell_type": "code",
   "execution_count": 50,
   "metadata": {
    "collapsed": true
   },
   "outputs": [],
   "source": [
    "ggbias = defaultdict(int)\n",
    "ggbiasd = defaultdict(lambda: defaultdict(int))\n",
    "for i in range(len(betaggo)):\n",
    "    for j in range(len(betaggo[i])):\n",
    "        g1 = get_genre_from_id(i)\n",
    "        g2 = get_genre_from_id(j)\n",
    "        ggbias[(g1,g2)] = betaggo[i][j]\n",
    "        ggbiasd[g1][g2] = betaggo[i][j]"
   ]
  },
  {
   "cell_type": "code",
   "execution_count": 51,
   "metadata": {
    "collapsed": false
   },
   "outputs": [],
   "source": [
    "# sorted(ggbias.iteritems(), key=operator.itemgetter(1), reverse=True)"
   ]
  },
  {
   "cell_type": "code",
   "execution_count": 53,
   "metadata": {
    "collapsed": false
   },
   "outputs": [],
   "source": [
    "import pandas as pd\n",
    "frame = pd.DataFrame.from_dict(data=ggbiasd, dtype=float)\n",
    "frame = frame.fillna(value=0)\n",
    "\n",
    "import seaborn as sns\n",
    "import matplotlib.pyplot as plt\n",
    "\n",
    "mask = np.zeros_like(frame, dtype=np.bool)\n",
    "for i in range(frame.shape[0]):\n",
    "    for j in range(frame.shape[1]):\n",
    "        if frame.columns[j] == frame.index[i]:\n",
    "            mask[i,j] = True\n",
    "\n",
    "with sns.axes_style('whitegrid'):\n",
    "    ax = sns.heatmap(frame, mask=mask,center= 0,  robust=True,linewidths=0.5)\n",
    "plt.yticks(rotation=0) \n",
    "plt.xticks(rotation=90)\n",
    "fig = plt.gcf()\n",
    "plt.title('Adjacent Migrations - depth: '+ str(depth))\n",
    "fig.subplots_adjust(bottom=0.3, left = 0.2)\n",
    "plt.show()"
   ]
  },
  {
   "cell_type": "code",
   "execution_count": 165,
   "metadata": {
    "collapsed": true
   },
   "outputs": [],
   "source": [
    "fig.savefig(\"From Model 1 Year Memory Migrations.pdf\")"
   ]
  },
  {
   "cell_type": "code",
   "execution_count": null,
   "metadata": {
    "collapsed": true
   },
   "outputs": [],
   "source": []
  }
 ],
 "metadata": {
  "kernelspec": {
   "display_name": "Python 2",
   "language": "python",
   "name": "python2"
  },
  "language_info": {
   "codemirror_mode": {
    "name": "ipython",
    "version": 2
   },
   "file_extension": ".py",
   "mimetype": "text/x-python",
   "name": "python",
   "nbconvert_exporter": "python",
   "pygments_lexer": "ipython2",
   "version": "2.7.11"
  }
 },
 "nbformat": 4,
 "nbformat_minor": 0
}
